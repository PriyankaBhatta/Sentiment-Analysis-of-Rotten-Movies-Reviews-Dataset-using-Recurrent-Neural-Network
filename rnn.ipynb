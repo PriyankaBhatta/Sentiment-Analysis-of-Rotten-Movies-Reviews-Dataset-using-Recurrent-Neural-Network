{
 "cells": [
  {
   "cell_type": "markdown",
   "metadata": {},
   "source": [
    "## Name: Priyanka Bhatta\n",
    "## ID: 2060036"
   ]
  },
  {
   "cell_type": "markdown",
   "metadata": {},
   "source": [
    "# Sentiment Analysis with Recurrent Neural Network"
   ]
  },
  {
   "cell_type": "markdown",
   "metadata": {},
   "source": [
    "## 1. Data Understanding, Analysis, and Cleaning[5]:"
   ]
  },
  {
   "cell_type": "markdown",
   "metadata": {},
   "source": [
    "**Importing the necessary libraries**"
   ]
  },
  {
   "cell_type": "code",
   "execution_count": 1,
   "metadata": {},
   "outputs": [],
   "source": [
    "import pandas as pd\n",
    "import numpy as np\n",
    "import matplotlib.pyplot as plt\n",
    "\n",
    "# Tensorflow\n",
    "import tensorflow as tf\n",
    "\n",
    "# Keras\n",
    "import keras \n",
    "from keras.models import Sequential\n",
    "from keras.layers import Embedding, LSTM, Dense\n",
    "from keras.layers import Embedding, TextVectorization\n",
    "\n",
    "# SkLearn\n",
    "from sklearn.model_selection import train_test_split\n",
    "from sklearn.metrics import classification_report"
   ]
  },
  {
   "cell_type": "markdown",
   "metadata": {},
   "source": [
    "**Loading the dataset and naming it 'data'**"
   ]
  },
  {
   "cell_type": "code",
   "execution_count": 2,
   "metadata": {},
   "outputs": [],
   "source": [
    "data = pd.read_csv(\"rotten_tomatoes_movie_reviews.csv\")"
   ]
  },
  {
   "cell_type": "markdown",
   "metadata": {},
   "source": [
    "**Check the size of the dataset**"
   ]
  },
  {
   "cell_type": "code",
   "execution_count": 3,
   "metadata": {},
   "outputs": [
    {
     "name": "stdout",
     "output_type": "stream",
     "text": [
      "Number of rows and columns in the dataset: (10662, 2)\n"
     ]
    }
   ],
   "source": [
    "print(\"Number of rows and columns in the dataset:\", data.shape)"
   ]
  },
  {
   "cell_type": "markdown",
   "metadata": {},
   "source": [
    "**Check for missing values**"
   ]
  },
  {
   "cell_type": "code",
   "execution_count": 4,
   "metadata": {},
   "outputs": [
    {
     "name": "stdout",
     "output_type": "stream",
     "text": [
      "Number of missing values in the dataset:\n",
      " reviews    0\n",
      "labels     0\n",
      "dtype: int64\n"
     ]
    }
   ],
   "source": [
    "print(\"Number of missing values in the dataset:\\n\", data.isnull().sum())"
   ]
  },
  {
   "cell_type": "markdown",
   "metadata": {},
   "source": [
    "**Check the distribution of classes**"
   ]
  },
  {
   "cell_type": "code",
   "execution_count": 5,
   "metadata": {},
   "outputs": [
    {
     "name": "stdout",
     "output_type": "stream",
     "text": [
      "Distribution of classes:\n",
      " 0    5331\n",
      "1    5331\n",
      "Name: labels, dtype: int64\n"
     ]
    }
   ],
   "source": [
    "print(\"Distribution of classes:\\n\", data['labels'].value_counts())"
   ]
  },
  {
   "cell_type": "markdown",
   "metadata": {},
   "source": [
    "### Shuffle up the data"
   ]
  },
  {
   "cell_type": "code",
   "execution_count": 6,
   "metadata": {},
   "outputs": [
    {
     "data": {
      "text/html": [
       "<div>\n",
       "<style scoped>\n",
       "    .dataframe tbody tr th:only-of-type {\n",
       "        vertical-align: middle;\n",
       "    }\n",
       "\n",
       "    .dataframe tbody tr th {\n",
       "        vertical-align: top;\n",
       "    }\n",
       "\n",
       "    .dataframe thead th {\n",
       "        text-align: right;\n",
       "    }\n",
       "</style>\n",
       "<table border=\"1\" class=\"dataframe\">\n",
       "  <thead>\n",
       "    <tr style=\"text-align: right;\">\n",
       "      <th></th>\n",
       "      <th>reviews</th>\n",
       "      <th>labels</th>\n",
       "    </tr>\n",
       "  </thead>\n",
       "  <tbody>\n",
       "    <tr>\n",
       "      <th>6830</th>\n",
       "      <td>this film seems thirsty for reflection , itsel...</td>\n",
       "      <td>1</td>\n",
       "    </tr>\n",
       "    <tr>\n",
       "      <th>8600</th>\n",
       "      <td>the movie's thesis -- elegant technology for t...</td>\n",
       "      <td>1</td>\n",
       "    </tr>\n",
       "    <tr>\n",
       "      <th>4080</th>\n",
       "      <td>tries too hard to be funny in a way that's too...</td>\n",
       "      <td>0</td>\n",
       "    </tr>\n",
       "    <tr>\n",
       "      <th>3079</th>\n",
       "      <td>disturbingly superficial in its approach to th...</td>\n",
       "      <td>0</td>\n",
       "    </tr>\n",
       "    <tr>\n",
       "      <th>582</th>\n",
       "      <td>an ugly , pointless , stupid movie .</td>\n",
       "      <td>0</td>\n",
       "    </tr>\n",
       "  </tbody>\n",
       "</table>\n",
       "</div>"
      ],
      "text/plain": [
       "                                                reviews  labels\n",
       "6830  this film seems thirsty for reflection , itsel...       1\n",
       "8600  the movie's thesis -- elegant technology for t...       1\n",
       "4080  tries too hard to be funny in a way that's too...       0\n",
       "3079  disturbingly superficial in its approach to th...       0\n",
       "582               an ugly , pointless , stupid movie .        0"
      ]
     },
     "execution_count": 6,
     "metadata": {},
     "output_type": "execute_result"
    }
   ],
   "source": [
    "data = data.sample(frac=1, random_state=42)\n",
    "data.head()"
   ]
  },
  {
   "cell_type": "markdown",
   "metadata": {},
   "source": [
    "# Build the model"
   ]
  },
  {
   "cell_type": "markdown",
   "metadata": {},
   "source": [
    "### Train Test Split"
   ]
  },
  {
   "cell_type": "markdown",
   "metadata": {},
   "source": [
    "To build the model, we need to split the data into train and test sets\n",
    "\n",
    "We take the 'reviews' and 'labels' from the given dataset and converts them into numpy arrays.\n",
    "\n",
    "Then, we splits the data into training and testing sets with a 15% testing data and a 42 as a random state value."
   ]
  },
  {
   "cell_type": "code",
   "execution_count": 7,
   "metadata": {},
   "outputs": [],
   "source": [
    "train_sentences , test_sentences, train_labels , test_labels = train_test_split(data['reviews'].to_numpy(),\n",
    "                                                                                data['labels'].to_numpy(),\n",
    "                                                                                test_size=0.15,\n",
    "                                                                                random_state=42)"
   ]
  },
  {
   "cell_type": "markdown",
   "metadata": {},
   "source": [
    "Then, we check the length of train and test sentences to verify that the train-test split has been done correctly."
   ]
  },
  {
   "cell_type": "code",
   "execution_count": 8,
   "metadata": {},
   "outputs": [
    {
     "data": {
      "text/plain": [
       "(9062, 1600)"
      ]
     },
     "execution_count": 8,
     "metadata": {},
     "output_type": "execute_result"
    }
   ],
   "source": [
    "len(train_sentences), len(test_sentences)"
   ]
  },
  {
   "cell_type": "markdown",
   "metadata": {},
   "source": [
    "## Preprocessing the data\n",
    "\n",
    "This preprocessing step is necessary to convert the textual data into a numerical format that can be used for training a machine learning model. The TextVectorization layer is used to tokenize the sentences, convert them to lowercase, and remove punctuation and special characters. Additionally, the layer is configured to limit the vocabulary size to the MAX_VOCAB most frequent words, and to pad the sequences to a maximum length of MAX_LEN tokens. This ensures that all input sequences have the same length, which is required by the RNN model.\n",
    "\n",
    "\n",
    "\n",
    "* **MAX_LEN** is set to 21, which means that any review with more than 21 words will be truncated and any review with less than 21 words will be padded with zeros. \n",
    "\n",
    "\n",
    "\n",
    "* **MAX_VOCAB** is set to 10,000, which means that the 10,000 most frequent words will be used to create the vocabulary.\n",
    "\n",
    "\n",
    "\n",
    "* **max_tokens** specifies the maximum size of the vocabulary\n",
    "\n",
    "\n",
    "* **output_mode** specifies the output type of the layer (in this case, integer sequences)\n",
    "\n",
    "\n",
    "* **output_sequence_length** specifies the maximum length of the output sequences."
   ]
  },
  {
   "cell_type": "code",
   "execution_count": 9,
   "metadata": {},
   "outputs": [],
   "source": [
    "MAX_LEN = 21\n",
    "MAX_VOCAB = 10_000 \n",
    "\n",
    "txt_vect = TextVectorization(max_tokens=MAX_VOCAB,\n",
    "                            output_mode=\"int\",\n",
    "                            output_sequence_length=MAX_LEN)"
   ]
  },
  {
   "cell_type": "markdown",
   "metadata": {},
   "source": [
    "## Adapting vectors to training sentences\n",
    "\n",
    "In this step, the TextVectorization layer is adapted to the training sentences. This means that the layer is configured to build a vocabulary of up to MAX_VOCAB number of most common words in the training set, and to pad/truncate the sentences to a maximum length of MAX_LEN tokens.\n",
    "\n",
    "This adaptation step is necessary to ensure that the text data is in a format that can be fed into the deep learning model. By adapting the TextVectorization layer to the training data, we ensure that the same preprocessing steps (such as tokenization and padding) are applied consistently to all the text data, both during training and inference."
   ]
  },
  {
   "cell_type": "code",
   "execution_count": 10,
   "metadata": {},
   "outputs": [],
   "source": [
    "# Adapting vectors to train_sentences\n",
    "txt_vect.adapt(train_sentences)"
   ]
  },
  {
   "cell_type": "markdown",
   "metadata": {},
   "source": [
    "## Embedding Layer\n",
    "\n",
    "\n",
    "This layer is used to convert the input text data into a form that can be understood by the model. It maps each word in the input sequence to a fixed-length vector of real numbers. In this case, we're using the Keras `Embedding` layer which takes as input the maximum vocabulary size `MAX_VOCAB`, the output dimension of the embedding `output_dim`, and the input sequence length `input_length`. The output of the embedding layer will be a 3D tensor of shape `(batch_size, sequence_length, output_dim)`.\n",
    "\n",
    "In this specific example, we're using an embedding dimension of 128."
   ]
  },
  {
   "cell_type": "code",
   "execution_count": 11,
   "metadata": {},
   "outputs": [],
   "source": [
    "Embedding = keras.layers.Embedding(input_dim=MAX_VOCAB,\n",
    "                                   output_dim=128,\n",
    "                                   input_length=MAX_LEN)"
   ]
  },
  {
   "cell_type": "code",
   "execution_count": 12,
   "metadata": {},
   "outputs": [],
   "source": [
    "# a random seed to ensure the same results can be obtained every time the code is run.\n",
    "tf.random.set_seed(42)\n",
    "\n",
    "#This creates an input layer that expects one string input with one dimension.\n",
    "inputs = keras.layers.Input(shape=(1, ), dtype=\"string\")\n",
    "\n",
    "#This applies text vectorization to the input layer.\n",
    "X = txt_vect(inputs)\n",
    "\n",
    "#This applies the Embedding layer to the output of the text vectorization layer.\n",
    "X = Embedding(X)\n",
    "\n",
    "#This applies a LSTM layer with 64 units to the output of the Embedding layer.\n",
    "X = LSTM(64)(X)\n",
    "\n",
    "# This applies a dense layer with one unit and sigmoid activation function to the output of the LSTM layer.\n",
    "outputs = keras.layers.Dense(1, activation=\"sigmoid\")(X) # 1 output since we are only trying to detect postive or negative (0 or 1)\n",
    "\n",
    "\n",
    "# Create model\n",
    "model_0 = tf.keras.Model(inputs, outputs, name=\"RNN_Sentiment_Classifier\")"
   ]
  },
  {
   "cell_type": "markdown",
   "metadata": {},
   "source": [
    "Now, we print out the summary of the model architecture, including the number of parameters and layers, their shapes, and their output shapes. It provides a concise overview of the model and is helpful for verifying the model's design and ensuring that the input and output shapes are correct."
   ]
  },
  {
   "cell_type": "code",
   "execution_count": 13,
   "metadata": {},
   "outputs": [
    {
     "name": "stdout",
     "output_type": "stream",
     "text": [
      "Model: \"RNN_Sentiment_Classifier\"\n",
      "_________________________________________________________________\n",
      " Layer (type)                Output Shape              Param #   \n",
      "=================================================================\n",
      " input_1 (InputLayer)        [(None, 1)]               0         \n",
      "                                                                 \n",
      " text_vectorization (TextVec  (None, 21)               0         \n",
      " torization)                                                     \n",
      "                                                                 \n",
      " embedding (Embedding)       (None, 21, 128)           1280000   \n",
      "                                                                 \n",
      " lstm (LSTM)                 (None, 64)                49408     \n",
      "                                                                 \n",
      " dense (Dense)               (None, 1)                 65        \n",
      "                                                                 \n",
      "=================================================================\n",
      "Total params: 1,329,473\n",
      "Trainable params: 1,329,473\n",
      "Non-trainable params: 0\n",
      "_________________________________________________________________\n"
     ]
    }
   ],
   "source": [
    "# Print the model summary\n",
    "model_0.summary()"
   ]
  },
  {
   "cell_type": "markdown",
   "metadata": {},
   "source": [
    "## Train the model"
   ]
  },
  {
   "cell_type": "markdown",
   "metadata": {},
   "source": [
    "Once the model is built, Train your model for as many epochs you think is necessary.\n",
    "Please, Plot and show training loss/validation loss behaviour for each iterations."
   ]
  },
  {
   "cell_type": "markdown",
   "metadata": {},
   "source": [
    "* **model_0.compile()**: This compiles the model with the specified loss function, optimizer and metrics.\n",
    "\n",
    "\n",
    "* **loss=\"binary_crossentropy\"**: This specifies the loss function as binary cross-entropy, which is commonly used for binary classification problems.\n",
    "\n",
    "\n",
    "* **optimizer=\"adam\"**: This specifies the optimizer as Adam, which is a popular optimizer for deep learning models.\n",
    "\n",
    "\n",
    "* **metrics=[\"accuracy\"]**: This specifies the metric to evaluate the model's performance during training as accuracy, which is a common metric for classification problems."
   ]
  },
  {
   "cell_type": "code",
   "execution_count": 14,
   "metadata": {},
   "outputs": [],
   "source": [
    "model_0.compile(loss=\"binary_crossentropy\",\n",
    "               optimizer=\"adam\",\n",
    "               metrics=[\"accuracy\"]) "
   ]
  },
  {
   "cell_type": "markdown",
   "metadata": {},
   "source": [
    "* **hist_0** = model_0.fit(): This trains the model on the provided data for the specified number of epochs and returns a history object containing the training metrics.\n",
    "\n",
    "\n",
    "* **train_sentences**: The input sentences used for training the model.\n",
    "\n",
    "\n",
    "* **train_labels**: The corresponding labels for the input sentences used for training the model.\n",
    "\n",
    "\n",
    "* **epochs=5**: The number of times the model will iterate over the entire training set.\n",
    "\n",
    "\n",
    "* **validation_data=(test_sentences, test_labels)**: The validation data on which the model will be evaluated after each epoch. Here we're using the test set for this purpose."
   ]
  },
  {
   "cell_type": "code",
   "execution_count": 15,
   "metadata": {},
   "outputs": [
    {
     "name": "stdout",
     "output_type": "stream",
     "text": [
      "Epoch 1/5\n",
      "284/284 [==============================] - 16s 45ms/step - loss: 0.5871 - accuracy: 0.6694 - val_loss: 0.5258 - val_accuracy: 0.7400\n",
      "Epoch 2/5\n",
      "284/284 [==============================] - 11s 40ms/step - loss: 0.3317 - accuracy: 0.8575 - val_loss: 0.5428 - val_accuracy: 0.7531\n",
      "Epoch 3/5\n",
      "284/284 [==============================] - 12s 41ms/step - loss: 0.1931 - accuracy: 0.9246 - val_loss: 0.6128 - val_accuracy: 0.7394\n",
      "Epoch 4/5\n",
      "284/284 [==============================] - 10s 36ms/step - loss: 0.1118 - accuracy: 0.9602 - val_loss: 0.7990 - val_accuracy: 0.7362\n",
      "Epoch 5/5\n",
      "284/284 [==============================] - 12s 42ms/step - loss: 0.0680 - accuracy: 0.9780 - val_loss: 1.0193 - val_accuracy: 0.7344\n"
     ]
    }
   ],
   "source": [
    "hist_0 = model_0.fit(train_sentences,\n",
    "                    train_labels,\n",
    "                     epochs=5,\n",
    "                    validation_data=(test_sentences, test_labels))"
   ]
  },
  {
   "cell_type": "markdown",
   "metadata": {},
   "source": [
    "It seems like the training accuracy increased with each epoch while the validation accuracy decreased. This could indicate that the model is overfitting the training data and is not generalizing well to new data."
   ]
  },
  {
   "cell_type": "code",
   "execution_count": 16,
   "metadata": {},
   "outputs": [
    {
     "data": {
      "image/png": "[encoded data removed]",
      "text/plain": [
       "<Figure size 640x480 with 1 Axes>"
      ]
     },
     "metadata": {},
     "output_type": "display_data"
    }
   ],
   "source": [
    "%matplotlib inline\n",
    "import matplotlib.pyplot as plt\n",
    "\n",
    "# Get training and validation loss from the history object\n",
    "train_loss = hist_0.history['loss']\n",
    "val_loss = hist_0.history['val_loss']\n",
    "\n",
    "# Plot the training and validation loss\n",
    "plt.plot(train_loss, label='Training Loss')\n",
    "plt.plot(val_loss, label='Validation Loss')\n",
    "plt.title('Training and Validation Loss')\n",
    "plt.xlabel('Epochs')\n",
    "plt.ylabel('Loss')\n",
    "plt.legend()\n",
    "plt.show()"
   ]
  },
  {
   "cell_type": "markdown",
   "metadata": {},
   "source": [
    "The figure shows that the training loss decreases as the number of epochs increases, which means that the model is learning more from the training data. However, the validation loss keeps on fluctuating from one epoch to another epoch, which suggests that the model is not generalizing well to the new data (validation data). This could indicate overfitting to the training data."
   ]
  },
  {
   "cell_type": "code",
   "execution_count": 17,
   "metadata": {},
   "outputs": [
    {
     "data": {
      "image/png": "[encoded data removed]",
      "text/plain": [
       "<Figure size 640x480 with 1 Axes>"
      ]
     },
     "metadata": {},
     "output_type": "display_data"
    }
   ],
   "source": [
    "# Get training and validation loss from the history object\n",
    "train_accuracy = hist_0.history['accuracy']\n",
    "val_accuracy = hist_0.history['val_accuracy']\n",
    "\n",
    "# Plot the training and validation accuracy\n",
    "plt.plot(train_accuracy, label='Training accuarcy')\n",
    "plt.plot(val_accuracy, label='Validation Accuracy')\n",
    "plt.title('Training and Validation Accuracy')\n",
    "plt.xlabel('Epochs')\n",
    "plt.ylabel('Accuracy')\n",
    "plt.legend()\n",
    "plt.show()"
   ]
  },
  {
   "cell_type": "markdown",
   "metadata": {},
   "source": [
    "## Evaluate the Model"
   ]
  },
  {
   "cell_type": "code",
   "execution_count": 18,
   "metadata": {},
   "outputs": [],
   "source": [
    "def loss_acc(model):\n",
    "    loss, acc = model.evaluate(test_sentences, test_labels, verbose=1)\n",
    "    print(f\"Loss: {loss*100:.2f}%\\nAccuracy: {acc*100:.2f}%\")\n",
    "    y_pred = model.predict(test_sentences)\n",
    "    y_pred = np.round(y_pred).flatten()\n",
    "    print(classification_report(test_labels, y_pred))"
   ]
  },
  {
   "cell_type": "markdown",
   "metadata": {},
   "source": [
    "This function, **loss_acc(model)**, evaluates the model's performance on the test data and prints the loss, accuracy, and classification report.\n",
    "\n",
    "* The **evaluate** method of the model object is used to calculate the loss and accuracy on the test data.\n",
    "\n",
    "\n",
    "* The predicted labels for the test data are obtained using the **predict** method of the model object.\n",
    "\n",
    "\n",
    "* The predicted labels are rounded and flattened to get binary values (0 or 1) using the **np.round** and **flatten88 functions, respectively.\n",
    "\n",
    "\n",
    "* The **classification_report** function from sklearn.metrics is used to print a report of the model's performance on the test data, including precision, recall, and F1 score for each class (0 and 1).\n",
    "\n",
    "\n",
    "\n",
    "This function can be used to evaluate the performance of the trained model on the test data and see how well it can generalize to new data."
   ]
  },
  {
   "cell_type": "code",
   "execution_count": 19,
   "metadata": {},
   "outputs": [
    {
     "name": "stdout",
     "output_type": "stream",
     "text": [
      "50/50 [==============================] - 0s 6ms/step - loss: 1.0193 - accuracy: 0.7344\n",
      "Loss: 101.93%\n",
      "Accuracy: 73.44%\n",
      "50/50 [==============================] - 1s 7ms/step\n",
      "              precision    recall  f1-score   support\n",
      "\n",
      "           0       0.72      0.79      0.75       819\n",
      "           1       0.76      0.67      0.71       781\n",
      "\n",
      "    accuracy                           0.73      1600\n",
      "   macro avg       0.74      0.73      0.73      1600\n",
      "weighted avg       0.74      0.73      0.73      1600\n",
      "\n"
     ]
    }
   ],
   "source": [
    "loss_acc(model_0)"
   ]
  },
  {
   "cell_type": "markdown",
   "metadata": {},
   "source": [
    "Based on the provided results, the model achieved a test accuracy of 73.44% and a test loss of 1.02. The precision, recall, and f1-score for both classes (0 and 1) are also provided in the classification report.\n",
    "\n",
    "The precision measures the proportion of correctly predicted positive (1) or negative (0) instances out of the total predicted instances for that class. The recall measures the proportion of correctly predicted positive or negative instances out of the total actual instances for that class. The f1-score is a metric that combines precision and recall, giving an overall measure of the model's performance.\n",
    "\n",
    "In this case, the model has achieved relatively balanced precision, recall, and f1-scores for both classes, indicating that it is performing reasonably well for both positive and negative sentiments. However, the overall accuracy and f1-scores suggest that there is still room for improvement in the model's performance.\n",
    "\n",
    "Further optimization and fine-tuning of the model, such as adjusting hyperparameters, trying different architectures, or increasing the training data, may help improve the model's performance."
   ]
  },
  {
   "cell_type": "markdown",
   "metadata": {},
   "source": [
    "## Results and Predictions"
   ]
  },
  {
   "cell_type": "code",
   "execution_count": 20,
   "metadata": {},
   "outputs": [
    {
     "name": "stdout",
     "output_type": "stream",
     "text": [
      "50/50 [==============================] - 0s 7ms/step\n",
      "Text: nothing sticks , really , except a lingering creepiness one feels from being dragged through a sad , sordid universe of guns , drugs , avarice and damaged dreams . \n",
      "True label: 0\n",
      "Predicted label: 0\n",
      "\n",
      "Text: two tedious acts light on great scares and a good surprise ending . \n",
      "True label: 0\n",
      "Predicted label: 0\n",
      "\n",
      "Text: it's a beautifully accomplished lyrical meditation on a bunch of despondent and vulnerable characters living in the renown chelsea hotel . . . \n",
      "True label: 1\n",
      "Predicted label: 1\n",
      "\n",
      "Text: lan yu seems altogether too slight to be called any kind of masterpiece . it is , however , a completely honest , open-hearted film that should appeal to anyone willing to succumb to it . \n",
      "True label: 1\n",
      "Predicted label: 0\n",
      "\n",
      "Text: kim ki-deok seems to have in mind an ( emotionally at least ) adolescent audience demanding regular shocks and bouts of barely defensible sexual violence to keep it interested . \n",
      "True label: 0\n",
      "Predicted label: 0\n",
      "\n",
      "Text: the lousy lead performances . . . keep the movie from ever reaching the comic heights it obviously desired . \n",
      "True label: 0\n",
      "Predicted label: 0\n",
      "\n",
      "Text: sensitive , insightful and beautifully rendered film . one of the best of the year . \n",
      "True label: 1\n",
      "Predicted label: 1\n",
      "\n",
      "Text: this is a remake by the numbers , linking a halfwit plot to a series of standup routines in which wilson and murphy show how funny they could have been in a more ambitious movie . \n",
      "True label: 0\n",
      "Predicted label: 0\n",
      "\n",
      "Text: its adult themes of familial separation and societal betrayal are head and shoulders above much of the director's previous popcorn work . \n",
      "True label: 1\n",
      "Predicted label: 1\n",
      "\n",
      "Text: rare birds has more than enough charm to make it memorable . \n",
      "True label: 1\n",
      "Predicted label: 1\n",
      "\n"
     ]
    }
   ],
   "source": [
    "# Make predictions on the test set\n",
    "test_predictions = model_0.predict(test_sentences)\n",
    "\n",
    "# Convert probabilities to class labels (0 or 1)\n",
    "test_predictions = [1 if pred >= 0.5 else 0 for pred in test_predictions]\n",
    "\n",
    "# Print some example predictions\n",
    "for i in range(10):\n",
    "    print(f\"Text: {test_sentences[i]}\")\n",
    "    print(f\"True label: {test_labels[i]}\")\n",
    "    print(f\"Predicted label: {test_predictions[i]}\\n\")"
   ]
  },
  {
   "cell_type": "markdown",
   "metadata": {},
   "source": [
    "## Conclusion"
   ]
  },
  {
   "cell_type": "markdown",
   "metadata": {},
   "source": [
    "\n",
    "Looking at the sample predictions on the test set, the model seems to perform reasonably well. However, there are some cases where the model predicted the wrong label, such as the fourth example where the true label is 1 but the model predicted 0. Further improvements could be made to the model to increase its accuracy and reduce the number of misclassifications like increasing the size of the model or fine-tuning the model or even experiment with different neural network architectures."
   ]
  }
 ],
 "metadata": {
  "kernelspec": {
   "display_name": "Python 3 (ipykernel)",
   "language": "python",
   "name": "python3"
  },
  "language_info": {
   "codemirror_mode": {
    "name": "ipython",
    "version": 3
   },
   "file_extension": ".py",
   "mimetype": "text/x-python",
   "name": "python",
   "nbconvert_exporter": "python",
   "pygments_lexer": "ipython3",
   "version": "3.9.13"
  }
 },
 "nbformat": 4,
 "nbformat_minor": 2
}
